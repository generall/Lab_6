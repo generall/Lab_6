{
 "cells": [
  {
   "cell_type": "markdown",
   "metadata": {},
   "source": [
    "<div style=\"font-size:18pt; padding-top:20px; text-align:center\"><b>Лабораторная работа 6.</b> Обработка графов с Spark GraphFrame</div><hr>\n",
    "<div style=\"text-align:right;\">Папулин С.Ю. <span style=\"font-style: italic;font-weight: bold;\">(papulin.study@mail.ru)</span></div>"
   ]
  },
  {
   "cell_type": "markdown",
   "metadata": {},
   "source": [
    "<a name=\"0\"></a>\n",
    "<div><span style=\"font-size:14pt; font-weight:bold\">Содержание</span>\n",
    "    <ol>\n",
    "        <li><a href=\"#1\">Запуск приложения на Cloudera</a>\n",
    "            <ol style = \"list-style-type:lower-alpha\">\n",
    "                <li><a href=\"#1a\">Запуск через интерактивную среду PySpark</a></li>\n",
    "                <li><a href=\"#1b\">Запуск файла с кодом</a></li>\n",
    "            </ol>\n",
    "        </li>\n",
    "        <li><a href=\"#2\">Запуск приложения на AWS</a>\n",
    "            <ol style = \"list-style-type:lower-alpha\">\n",
    "                <li><a href=\"#2a\">Запуск через интерактивную среду PySpark</a></li>\n",
    "                <li><a href=\"#2b\">Запуск файла с кодом</a></li>\n",
    "            </ol>\n",
    "        </li>\n",
    "        <li><a href=\"#3\">Запуск приложения на Azure</a>\n",
    "            <ol style = \"list-style-type:lower-alpha\">\n",
    "                <li><a href=\"#3a\">Запуск через интерактивную среду PySpark</a></li>\n",
    "                <li><a href=\"#3b\">Запуск файла с кодом</a></li>\n",
    "            </ol>\n",
    "        </li>\n",
    "        <li><a href=\"#4\">Источники</a>\n",
    "        </li>\n",
    "    </ol>\n",
    "</div>"
   ]
  },
  {
   "cell_type": "markdown",
   "metadata": {},
   "source": [
    "<p>Подключение стилей для оформления тетради</p>"
   ]
  },
  {
   "cell_type": "code",
   "execution_count": null,
   "metadata": {
    "collapsed": false
   },
   "outputs": [],
   "source": [
    "from IPython.core.display import HTML\n",
    "HTML(\"<link rel='stylesheet' href='css/style.css'>\")"
   ]
  },
  {
   "cell_type": "markdown",
   "metadata": {},
   "source": [
    "<div>\n",
    "    <p><b>Цель лабораторной работы</b> - ознакомиться с пакетом GraphFrame для обработки графов в системе Spark</p>\n",
    "    <p><b>Необходимые средства:</b></p>\n",
    "    <ul>\n",
    "        <li>Локальный кластер Cloudera</li>\n",
    "        <li>Кластер AWS</li>\n",
    "        <li>Кластер Azure</li>\n",
    "        <li>Spark</li>\n",
    "        <li>Python</li>\n",
    "        <li>PySpark</li>\n",
    "        <li>Spark Sql</li>\n",
    "        <li>Spark DataFrame</li>\n",
    "        <li>Пакет GraphFrame</li>\n",
    "        <li>Jupyter</li>\n",
    "    </ul>\n",
    "</div>"
   ]
  },
  {
   "cell_type": "markdown",
   "metadata": {},
   "source": [
    "<a name=\"1\"></a>\n",
    "<div style=\"display:table; width:100%; padding-top:10px; padding-bottom:10px; border-bottom:1px solid lightgrey\">\n",
    "    <div style=\"display:table-row\">\n",
    "        <div style=\"display:table-cell; width:80%; font-size:14pt; font-weight:bold\">1. Запуск приложения на Cloudera</div>\n",
    "    \t<div style=\"display:table-cell; width:20%; text-align:center; background-color:whitesmoke; border:1px solid lightgrey\"><a href=\"#0\">К содержанию</a></div>\n",
    "    </div>\n",
    "</div>"
   ]
  },
  {
   "cell_type": "markdown",
   "metadata": {},
   "source": [
    "<a name = \"1a\"></a>\n",
    "<div style = \"display:table; width:100%\">\n",
    "    <div style = \"display:table-row\">\n",
    "        <div style = \"display:table-cell; width:80%; font-style:italic; font-weight:bold; font-size:12pt\">\n",
    "            a. Запуск через интерактивную среду PySpark\n",
    "        </div>\n",
    "        <div style=\"display:table-cell; border:1px solid lightgrey; width:20%\">\n",
    "            <div style = \"display:table-cell; width:10%; text-align:center; background-color:whitesmoke;\">\n",
    "                <a href=\"#1\">Назад</a>\n",
    "            </div>\n",
    "            <div style = \"display:table-cell; width:10%; text-align:center;\">\n",
    "                <a href=\"#1b\">Далее</a>\n",
    "            </div>\n",
    "        </div>\n",
    "    </div>\n",
    "</div>"
   ]
  },
  {
   "cell_type": "markdown",
   "metadata": {},
   "source": [
    "<p>1. Запустите интерактивную среду <span class=\"code-font code-key\">PySpark</span> с пакетом <span class=\"code-font code-key\">GraphFrames</span></p>"
   ]
  },
  {
   "cell_type": "markdown",
   "metadata": {},
   "source": [
    "<div class=\"code-block\"><p class=\"code-font\"><span class=\"code-key\">pyspark</span> --packages graphframes:graphframes:0.3.0-spark1.6-s_2.10</p></div>"
   ]
  },
  {
   "cell_type": "markdown",
   "metadata": {},
   "source": [
    "<p>2. Выполните следующий код</p>"
   ]
  },
  {
   "cell_type": "markdown",
   "metadata": {},
   "source": [
    "<div class=\"msg-block msg-info\">\n",
    "  <span class=\"msg-text-info\">Замечание! </span> <p>Код выполнить в терминале или Jupyter</p>\n",
    "</div>"
   ]
  },
  {
   "cell_type": "markdown",
   "metadata": {},
   "source": [
    "<p><a href=\"http://graphframes.github.io/quick-start.html\">Исходный код</a></p>"
   ]
  },
  {
   "cell_type": "code",
   "execution_count": null,
   "metadata": {
    "collapsed": true
   },
   "outputs": [],
   "source": [
    "#Подгружаем модуль GraphFrame\n",
    "from graphframes import *"
   ]
  },
  {
   "cell_type": "code",
   "execution_count": null,
   "metadata": {
    "collapsed": true
   },
   "outputs": [],
   "source": [
    "#Подгружаем SQLContext для создания DataSet/DataFrame'ов\n",
    "from pyspark.sql import SQLContext"
   ]
  },
  {
   "cell_type": "code",
   "execution_count": null,
   "metadata": {
    "collapsed": true
   },
   "outputs": [],
   "source": [
    "#Создаем SqlContext. sc - SaprkContext, создается автоматом при запуске pySpark\n",
    "sqlContext = SQLContext(sc)"
   ]
  },
  {
   "cell_type": "code",
   "execution_count": null,
   "metadata": {
    "collapsed": true
   },
   "outputs": [],
   "source": [
    "#Создаем коллекцию (DataFrame) вершин \n",
    "myVertices = sqlContext.createDataFrame([(\"a\", \"Alice\", 34),\n",
    "                                         (\"b\", \"Bob\", 36),\n",
    "                                         (\"c\", \"Charlie\", 30),], \n",
    "                                        [\"id\", \"name\", \"age\"])"
   ]
  },
  {
   "cell_type": "code",
   "execution_count": null,
   "metadata": {
    "collapsed": true
   },
   "outputs": [],
   "source": [
    "#Создаем коллекцию (DataFrame) ребер \n",
    "myEdges = sqlContext.createDataFrame([(\"a\", \"b\", \"friend\"),\n",
    "                                      (\"b\", \"c\", \"follow\"),\n",
    "                                      (\"c\", \"b\", \"follow\"),], \n",
    "                                     [\"src\", \"dst\", \"relationship\"])"
   ]
  },
  {
   "cell_type": "code",
   "execution_count": null,
   "metadata": {
    "collapsed": true
   },
   "outputs": [],
   "source": [
    "#Создаем экземпляр класса GraphFrame\n",
    "myGraph = GraphFrame(myVertices, myEdges)"
   ]
  },
  {
   "cell_type": "code",
   "execution_count": null,
   "metadata": {
    "collapsed": true
   },
   "outputs": [],
   "source": [
    "#Отображаем количесство входящих ребер для каждой вершины\n",
    "myGraph.inDegrees.show()"
   ]
  },
  {
   "cell_type": "code",
   "execution_count": null,
   "metadata": {
    "collapsed": true
   },
   "outputs": [],
   "source": [
    "#Фильтруем ребра по типу отношений и посчитываем количество\n",
    "myGraph.edges.filter(\"relationship = 'follow'\").count()"
   ]
  },
  {
   "cell_type": "code",
   "execution_count": null,
   "metadata": {
    "collapsed": true
   },
   "outputs": [],
   "source": [
    "#Выполняем процедуры PageRank\n",
    "results = myGraph.pageRank(resetProbability=0.01, maxIter=20)"
   ]
  },
  {
   "cell_type": "code",
   "execution_count": null,
   "metadata": {
    "collapsed": true
   },
   "outputs": [],
   "source": [
    "#Отображаем результат в виде таблицы\n",
    "results.vertices.select(\"id\", \"pagerank\").show()"
   ]
  },
  {
   "cell_type": "markdown",
   "metadata": {},
   "source": [
    "<a name = \"1b\"></a>\n",
    "<div style = \"display:table; width:100%\">\n",
    "    <div style = \"display:table-row\">\n",
    "        <div style = \"display:table-cell; width:80%; font-style:italic; font-weight:bold; font-size:12pt\">\n",
    "            b. Запуск файла с кодом\n",
    "        </div>\n",
    "        <div style=\"display:table-cell; border:1px solid lightgrey; width:20%\">\n",
    "            <div style = \"display:table-cell; width:10%; text-align:center; background-color:whitesmoke;\">\n",
    "                <a href=\"#1a\">Назад</a>\n",
    "            </div>\n",
    "            <div style = \"display:table-cell; width:10%; text-align:center;\">\n",
    "                <a href=\"#2\">Далее</a>\n",
    "            </div>\n",
    "        </div>\n",
    "    </div>\n",
    "</div>"
   ]
  },
  {
   "cell_type": "markdown",
   "metadata": {},
   "source": [
    "<p>1. Создайте файл с исходным кодом</p>"
   ]
  },
  {
   "cell_type": "code",
   "execution_count": null,
   "metadata": {
    "collapsed": true
   },
   "outputs": [],
   "source": [
    "#Полный путь к файлу, в котором будет храниться код программы\n",
    "python_file = \"YOUR_PATH/myGraph.py\""
   ]
  },
  {
   "cell_type": "markdown",
   "metadata": {},
   "source": [
    "<p>Записываем код в файл myGraph.py</p>"
   ]
  },
  {
   "cell_type": "code",
   "execution_count": null,
   "metadata": {
    "collapsed": true
   },
   "outputs": [],
   "source": [
    "%%writefile $python_file\n",
    "\n",
    "import sys\n",
    "from pyspark import SparkContext\n",
    "from graphframes import *\n",
    "from pyspark.sql import SQLContext\n",
    "\n",
    "sc = SparkContext(appName=\"GraphFrameApp\")\n",
    "\n",
    "sqlContext = SQLContext(sc)\n",
    "\n",
    "myVertices = sqlContext.createDataFrame([(\"a\", \"Alice\", 34),\n",
    "                                         (\"b\", \"Bob\", 36),\n",
    "                                         (\"c\", \"Charlie\", 30),], \n",
    "                                        [\"id\", \"name\", \"age\"])\n",
    "                                        \n",
    "myEdges = sqlContext.createDataFrame([(\"a\", \"b\", \"friend\"),\n",
    "                                      (\"b\", \"c\", \"follow\"),\n",
    "                                      (\"c\", \"b\", \"follow\"),], \n",
    "                                     [\"src\", \"dst\", \"relationship\"])\n",
    "                                     \n",
    "myGraph = GraphFrame(myVertices, myEdges)\n",
    "\n",
    "results = myGraph.pageRank(resetProbability=0.01, maxIter=20)\n",
    "\n",
    "resultsRdd = results.vertices.select(\"id\", \"pagerank\").rdd.map(lambda x: (x[0], x[1]))\n",
    "\n",
    "resultsRdd.coalesce(1).saveAsTextFile(sys.argv[1]) # передается как аргумент команды для запуска"
   ]
  },
  {
   "cell_type": "markdown",
   "metadata": {},
   "source": [
    "<div class=\"msg-block msg-warning\">\n",
    "  <span class=\"msg-text-warn\">Предупреждение! </span>\n",
    "  <p>Если директория SparkGraphFrame уже существует, то перед запуском удалите её</p>\n",
    "      <div class=\"code-block\"><p class=\"code-font\"><span class=\"code-key\">hdfs</span> dfs -rm -r /tmp/SparkGraphF</p></div>\n",
    "</div>"
   ]
  },
  {
   "cell_type": "markdown",
   "metadata": {},
   "source": [
    "<p>2. Запустите файл с использованием <span class=\"code-font code-key\">spark-submit</span></p>"
   ]
  },
  {
   "cell_type": "markdown",
   "metadata": {},
   "source": [
    "<p>3. Проверьте результат выполнения в <span class=\"code-font code-key\">HDFS</span></p>"
   ]
  },
  {
   "cell_type": "markdown",
   "metadata": {},
   "source": [
    "<div class=\"code-block\">\n",
    "    <p class=\"code-font\"><span class=\"code-key\">hdfs</span> dfs -cat /tmp/SparkGraphFrame/part-00000\n",
    "    </p>\n",
    "</div>"
   ]
  },
  {
   "cell_type": "markdown",
   "metadata": {},
   "source": [
    "<a name=\"2\"></a>\n",
    "<div style=\"display:table; width:100%; padding-top:10px; padding-bottom:10px; border-bottom:1px solid lightgrey\">\n",
    "    <div style=\"display:table-row\">\n",
    "        <div style=\"display:table-cell; width:80%; font-size:14pt; font-weight:bold\">2 Запуск приложения на AWS</div>\n",
    "    \t<div style=\"display:table-cell; width:20%; text-align:center; background-color:whitesmoke; border:1px solid lightgrey\"><a href=\"#0\">К содержанию</a></div>\n",
    "    </div>\n",
    "</div>"
   ]
  },
  {
   "cell_type": "markdown",
   "metadata": {},
   "source": [
    "Заливаем код в S3. E.g.: s3://vasnetsov-lab-1/lab5/code.py"
   ]
  },
  {
   "cell_type": "code",
   "execution_count": null,
   "metadata": {
    "collapsed": true
   },
   "outputs": [],
   "source": [
    "aws s3 cp lab6/myGraph.py s3://vasnetsov-lab-1/lab5/code.py"
   ]
  },
  {
   "cell_type": "markdown",
   "metadata": {},
   "source": [
    "Запуск python кода в спарке возможет только при загрузке с локальной машины, поэтому, при запуске кластера необходимо выполнить bootstrap actions, который скопирует код на машины из S3:"
   ]
  },
  {
   "cell_type": "code",
   "execution_count": null,
   "metadata": {
    "collapsed": true
   },
   "outputs": [],
   "source": [
    "# bt_action.sh\n",
    "aws s3 cp \"$1\" \"$2\""
   ]
  },
  {
   "cell_type": "markdown",
   "metadata": {},
   "source": [
    "Скрипт bootstrap actions также записываем в S3:"
   ]
  },
  {
   "cell_type": "code",
   "execution_count": null,
   "metadata": {
    "collapsed": true
   },
   "outputs": [],
   "source": [
    "aws s3 cp lab6/bt_action.sh s3://vasnetsov-lab-1/lab5/bt_action.sh"
   ]
  },
  {
   "cell_type": "markdown",
   "metadata": {},
   "source": [
    "Комманда для запуска кластера, запуск Spark задачи, сохранение результата в S3 и завершение кластера:"
   ]
  },
  {
   "cell_type": "code",
   "execution_count": null,
   "metadata": {
    "collapsed": true
   },
   "outputs": [],
   "source": [
    "aws emr create-cluster --name \"GraphFrame_cluster\" \\\n",
    "--release-label emr-5.2.0 \\\n",
    "--applications Name=Spark \\\n",
    "--log-uri s3://vasnetsov-lab-1/lab5/logs/ \\\n",
    "--use-default-roles \\\n",
    "--ec2-attributes KeyName=hadoop_keys,SubnetId=subnet-55b50d3d \\\n",
    "--instance-type m4.large \\\n",
    "--instance-count 3 \\\n",
    "--auto-terminate \\\n",
    "--bootstrap-actions 'Path=s3://vasnetsov-lab-1/lab5/bt_action.sh,Args=[s3://vasnetsov-lab-1/lab5/code.py,/home/hadoop/code.py]' \\\n",
    "--steps 'Type=Spark,Name=GraphFrameApp,Args=[--packages,graphframes:graphframes:0.3.0-spark2.0-s_2.11,--conf,spark.yarn.submit.waitAppCompletion=false,/home/hadoop/code.py,s3://vasnetsov-lab-1/lab5/SparkGraphFrame/],ActionOnFailure=CONTINUE'"
   ]
  },
  {
   "cell_type": "markdown",
   "metadata": {},
   "source": [
    "<div class=\"msg-block msg-imp\">\n",
    "  <span class=\"msg-text-imp\">Важно! </span>\n",
    "  <p>\n",
    "      После выпонения задания удалите кластер\n",
    "  </p>\n",
    "</div>"
   ]
  },
  {
   "cell_type": "markdown",
   "metadata": {},
   "source": [
    "<a name = \"2a\"></a>\n",
    "<div style = \"display:table; width:100%\">\n",
    "    <div style = \"display:table-row\">\n",
    "        <div style = \"display:table-cell; width:80%; font-style:italic; font-weight:bold; font-size:12pt\">\n",
    "            a. Запуск через интерактивную среду PySpark\n",
    "        </div>\n",
    "        <div style=\"display:table-cell; border:1px solid lightgrey; width:20%\">\n",
    "            <div style = \"display:table-cell; width:10%; text-align:center; background-color:whitesmoke;\">\n",
    "                <a href=\"#2\">Назад</a>\n",
    "            </div>\n",
    "            <div style = \"display:table-cell; width:10%; text-align:center;\">\n",
    "                <a href=\"#2b\">Далее</a>\n",
    "            </div>\n",
    "        </div>\n",
    "    </div>\n",
    "</div>"
   ]
  },
  {
   "cell_type": "code",
   "execution_count": null,
   "metadata": {
    "collapsed": true
   },
   "outputs": [],
   "source": [
    "#Ваш код"
   ]
  },
  {
   "cell_type": "markdown",
   "metadata": {},
   "source": [
    "<a name = \"2b\"></a>\n",
    "<div style = \"display:table; width:100%\">\n",
    "    <div style = \"display:table-row\">\n",
    "        <div style = \"display:table-cell; width:80%; font-style:italic; font-weight:bold; font-size:12pt\">\n",
    "            b. Запуск файла с кодом\n",
    "        </div>\n",
    "        <div style=\"display:table-cell; border:1px solid lightgrey; width:20%\">\n",
    "            <div style = \"display:table-cell; width:10%; text-align:center; background-color:whitesmoke;\">\n",
    "                <a href=\"#2a\">Назад</a>\n",
    "            </div>\n",
    "            <div style = \"display:table-cell; width:10%; text-align:center;\">\n",
    "                <a href=\"#3\">Далее</a>\n",
    "            </div>\n",
    "        </div>\n",
    "    </div>\n",
    "</div>"
   ]
  },
  {
   "cell_type": "code",
   "execution_count": null,
   "metadata": {
    "collapsed": true
   },
   "outputs": [],
   "source": [
    "#Ваш код"
   ]
  },
  {
   "cell_type": "markdown",
   "metadata": {},
   "source": [
    "<a name=\"3\"></a>\n",
    "<div style=\"display:table; width:100%; padding-top:10px; padding-bottom:10px; border-bottom:1px solid lightgrey\">\n",
    "    <div style=\"display:table-row\">\n",
    "        <div style=\"display:table-cell; width:80%; font-size:14pt; font-weight:bold\">3 Запуск приложения на Azure</div>\n",
    "    \t<div style=\"display:table-cell; width:20%; text-align:center; background-color:whitesmoke; border:1px solid lightgrey\"><a href=\"#0\">К содержанию</a></div>\n",
    "    </div>\n",
    "</div>"
   ]
  },
  {
   "cell_type": "markdown",
   "metadata": {},
   "source": [
    "<div class=\"msg-block msg-imp\">\n",
    "  <span class=\"msg-text-imp\">Важно! </span>\n",
    "  <p>\n",
    "      После выпонения задания удалите кластер\n",
    "  </p>\n",
    "</div>"
   ]
  },
  {
   "cell_type": "markdown",
   "metadata": {},
   "source": [
    "<a name = \"3a\"></a>\n",
    "<div style = \"display:table; width:100%\">\n",
    "    <div style = \"display:table-row\">\n",
    "        <div style = \"display:table-cell; width:80%; font-style:italic; font-weight:bold; font-size:12pt\">\n",
    "            a. Запуск через интерактивную среду PySpark\n",
    "        </div>\n",
    "        <div style=\"display:table-cell; border:1px solid lightgrey; width:20%\">\n",
    "            <div style = \"display:table-cell; width:10%; text-align:center; background-color:whitesmoke;\">\n",
    "                <a href=\"#3\">Назад</a>\n",
    "            </div>\n",
    "            <div style = \"display:table-cell; width:10%; text-align:center;\">\n",
    "                <a href=\"#3b\">Далее</a>\n",
    "            </div>\n",
    "        </div>\n",
    "    </div>\n",
    "</div>"
   ]
  },
  {
   "cell_type": "code",
   "execution_count": null,
   "metadata": {
    "collapsed": true
   },
   "outputs": [],
   "source": [
    "#Ваш код"
   ]
  },
  {
   "cell_type": "markdown",
   "metadata": {},
   "source": [
    "<a name = \"3b\"></a>\n",
    "<div style = \"display:table; width:100%\">\n",
    "    <div style = \"display:table-row\">\n",
    "        <div style = \"display:table-cell; width:80%; font-style:italic; font-weight:bold; font-size:12pt\">\n",
    "            b. Запуск файла с кодом\n",
    "        </div>\n",
    "        <div style=\"display:table-cell; border:1px solid lightgrey; width:20%\">\n",
    "            <div style = \"display:table-cell; width:10%; text-align:center; background-color:whitesmoke;\">\n",
    "                <a href=\"#3a\">Назад</a>\n",
    "            </div>\n",
    "            <div style = \"display:table-cell; width:10%; text-align:center;\">\n",
    "                <a href=\"#4\">Далее</a>\n",
    "            </div>\n",
    "        </div>\n",
    "    </div>\n",
    "</div>"
   ]
  },
  {
   "cell_type": "code",
   "execution_count": null,
   "metadata": {
    "collapsed": true
   },
   "outputs": [],
   "source": [
    "#Ваш код"
   ]
  },
  {
   "cell_type": "markdown",
   "metadata": {},
   "source": [
    "<a name=\"4\"></a>\n",
    "<div style=\"display:table; width:100%; padding-top:10px; padding-bottom:10px; border-bottom:1px solid lightgrey\">\n",
    "    <div style=\"display:table-row\">\n",
    "        <div style=\"display:table-cell; width:80%; font-size:14pt; font-weight:bold\">4 Источники</div>\n",
    "    \t<div style=\"display:table-cell; width:20%; text-align:center; background-color:whitesmoke; border:1px solid lightgrey\"><a href=\"#0\">К содержанию</a></div>\n",
    "    </div>\n",
    "</div>"
   ]
  },
  {
   "cell_type": "code",
   "execution_count": null,
   "metadata": {
    "collapsed": true
   },
   "outputs": [],
   "source": [
    "http://www.cloudera.com/documentation/enterprise/5-5-x/topics/spark_ipython.html\n",
    "https://spark-packages.org/package/graphframes/graphframes\n",
    "http://graphframes.github.io/user-guide.html\n",
    "http://graphframes.github.io/quick-start.html\n",
    "http://spark.apache.org/docs/latest/programming-guide.html\n",
    "http://spark.apache.org/docs/latest/submitting-applications.html\n",
    "http://spark.apache.org/docs/latest/sql-programming-guide.html"
   ]
  }
 ],
 "metadata": {
  "kernelspec": {
   "display_name": "Python 3",
   "language": "python",
   "name": "python3"
  },
  "language_info": {
   "codemirror_mode": {
    "name": "ipython",
    "version": 3
   },
   "file_extension": ".py",
   "mimetype": "text/x-python",
   "name": "python",
   "nbconvert_exporter": "python",
   "pygments_lexer": "ipython3",
   "version": "3.5.1"
  }
 },
 "nbformat": 4,
 "nbformat_minor": 2
}
